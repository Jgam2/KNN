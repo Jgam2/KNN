{
 "cells": [
  {
   "cell_type": "code",
   "execution_count": 1,
   "id": "4b035ba2",
   "metadata": {},
   "outputs": [
    {
     "data": {
      "text/plain": [
       "'C:\\\\Users\\\\jagambhi\\\\OneDrive - Capgemini\\\\Desktop\\\\Python'"
      ]
     },
     "execution_count": 1,
     "metadata": {},
     "output_type": "execute_result"
    }
   ],
   "source": [
    "pwd"
   ]
  },
  {
   "cell_type": "markdown",
   "id": "08e97713",
   "metadata": {},
   "source": [
    "Using KNN to classify images of numbers\n",
    "Take the first two steps to implement a KNN algorithm to classify MNIST images\n",
    "\n",
    "Introduction\n",
    "With the help of the k-Nearest Neighbors algorithm, a simple yet powerful algorithm to categorize observations into classes you can recognize digits from textual images.\n",
    "\n",
    "We will take the first two steps to implement a KNN algorithm to classify MNIST images.\n",
    "\n",
    "These images are unlike the Captcha checks many websites have in place to make sure you’re not a computer trying to hack into the user accounts.\n",
    "\n",
    "Let’s see how hard it is to let a computer recognize images of numbers.\n",
    "\n",
    "Our research goal is to let a computer recognize images of numbers (step one of the data science process).\n",
    "\n",
    "The data we’ll be working on is the MNIST (Mixed National Institute of Standards and Technology database) image data set. The MNIST data set is one of the most common data sets used in machine learning, as it is easy to implement, yet acts as a solid method for proving out models.\n",
    "\n",
    "MNIST is a data set of 70,000 handwritten digits numbered 0–9. No two handwritten digits are the same, and some can be very hard to correctly classify.\n",
    "\n",
    "The human benchmark for classifying MNIST is about 97.5% accuracy, so our goal is to beat that!\n",
    "\n",
    "Have a look at the images of numbers below. How easy or difficult do you think it is to classify them?"
   ]
  },
  {
   "cell_type": "markdown",
   "id": "016b177b",
   "metadata": {},
   "source": [
    "# Retrieving Data\n",
    "The MNIST images can be found in the data sets package of Scikit-learn and are already normalized for you. This way you won’t need much data preparation (step 3 of the data science process).\n",
    "### imports digits database"
   ]
  },
  {
   "cell_type": "code",
   "execution_count": 2,
   "id": "8c4fe33c",
   "metadata": {},
   "outputs": [
    {
     "name": "stdout",
     "output_type": "stream",
     "text": [
      "(1797, 64)\n"
     ]
    }
   ],
   "source": [
    "from sklearn.datasets import load_digits\n",
    "digits = load_digits()\n",
    "print(digits.data.shape)"
   ]
  },
  {
   "cell_type": "code",
   "execution_count": 3,
   "id": "d674cb25",
   "metadata": {},
   "outputs": [
    {
     "data": {
      "text/plain": [
       "<matplotlib.image.AxesImage at 0x2e189ea04c0>"
      ]
     },
     "execution_count": 3,
     "metadata": {},
     "output_type": "execute_result"
    },
    {
     "data": {
      "text/plain": [
       "<Figure size 432x288 with 0 Axes>"
      ]
     },
     "metadata": {},
     "output_type": "display_data"
    },
    {
     "data": {
      "image/png": "[encoded data removed]",
      "text/plain": [
       "<Figure size 288x288 with 1 Axes>"
      ]
     },
     "metadata": {
      "needs_background": "light"
     },
     "output_type": "display_data"
    }
   ],
   "source": [
    "import matplotlib.pyplot as plt\n",
    "plt.gray()\n",
    "plt.matshow(digits.images[0])"
   ]
  },
  {
   "cell_type": "markdown",
   "id": "76ac3bae",
   "metadata": {},
   "source": [
    "imports ploting library\n",
    "\n",
    "PyLab is a convenience module that bulk imports matplotlib.pyplot (for plotting) and NumPy (for Mathematics and working with arrays) in a single name space. Although many examples use PyLab, it is no longer recommended."
   ]
  },
  {
   "cell_type": "code",
   "execution_count": 4,
   "id": "4c10c17f",
   "metadata": {},
   "outputs": [],
   "source": [
    "import pylab as pl"
   ]
  },
  {
   "cell_type": "markdown",
   "id": "832a4d8e",
   "metadata": {},
   "source": [
    "loads digits"
   ]
  },
  {
   "cell_type": "code",
   "execution_count": 5,
   "id": "56273b9b",
   "metadata": {},
   "outputs": [],
   "source": [
    "import pylab as pl"
   ]
  },
  {
   "cell_type": "markdown",
   "id": "0a20b7a2",
   "metadata": {},
   "source": [
    "# Exploring Data\n",
    "Working with images isn’t much different from working with other data sets.\n",
    "\n",
    "In the case of a grey image, you put a value in every matrix entry that depicts the grey value to be shown.\n",
    "\n",
    "## show the image and data\n",
    "Turns image into gray-scale values"
   ]
  },
  {
   "cell_type": "code",
   "execution_count": 6,
   "id": "debfc6e6",
   "metadata": {},
   "outputs": [
    {
     "data": {
      "text/plain": [
       "<Figure size 432x288 with 0 Axes>"
      ]
     },
     "metadata": {},
     "output_type": "display_data"
    }
   ],
   "source": [
    "pl.gray()"
   ]
  },
  {
   "cell_type": "markdown",
   "id": "224ccafe",
   "metadata": {},
   "source": [
    "## Shows the first images"
   ]
  },
  {
   "cell_type": "code",
   "execution_count": 7,
   "id": "2cc071ba",
   "metadata": {},
   "outputs": [
    {
     "data": {
      "image/png": "[encoded data removed]",
      "text/plain": [
       "<Figure size 288x288 with 1 Axes>"
      ]
     },
     "metadata": {
      "needs_background": "light"
     },
     "output_type": "display_data"
    }
   ],
   "source": [
    "pl.matshow(digits.images[0])\n",
    "pl.show()"
   ]
  },
  {
   "cell_type": "markdown",
   "id": "42cf0b09",
   "metadata": {},
   "source": [
    "### shows the corresponding matrix"
   ]
  },
  {
   "cell_type": "code",
   "execution_count": 8,
   "id": "f72b6873",
   "metadata": {},
   "outputs": [
    {
     "data": {
      "text/plain": [
       "array([[ 0.,  0.,  5., 13.,  9.,  1.,  0.,  0.],\n",
       "       [ 0.,  0., 13., 15., 10., 15.,  5.,  0.],\n",
       "       [ 0.,  3., 15.,  2.,  0., 11.,  8.,  0.],\n",
       "       [ 0.,  4., 12.,  0.,  0.,  8.,  8.,  0.],\n",
       "       [ 0.,  5.,  8.,  0.,  0.,  9.,  8.,  0.],\n",
       "       [ 0.,  4., 11.,  0.,  1., 12.,  7.,  0.],\n",
       "       [ 0.,  2., 14.,  5., 10., 12.,  0.,  0.],\n",
       "       [ 0.,  0.,  6., 13., 10.,  0.,  0.,  0.]])"
      ]
     },
     "execution_count": 8,
     "metadata": {},
     "output_type": "execute_result"
    }
   ],
   "source": [
    "digits.images[0]"
   ]
  },
  {
   "cell_type": "markdown",
   "id": "1b569cee",
   "metadata": {},
   "source": [
    "# Observe\n",
    "Observe your output. Do you get the same data matrix?\n",
    "\n",
    "Here is how a blurry “0” image translate into a data matrix.\n",
    "\n",
    "# Guess\n",
    "Let’s have a guess what each number in the matrix means by looking at the blurry image of number ‘0’ above and its corresponding matrix of each pixel.\n",
    "\n",
    "Which statement do you think would best describe the scale?\n",
    "\n",
    "The higher the number, the closer it is to white, the lower the number, the closer it is to black.\n",
    "The higher the number, the closer it is to black, the lower the number, the closer it is to white."
   ]
  },
  {
   "cell_type": "markdown",
   "id": "4a94f561",
   "metadata": {},
   "source": [
    "Choice 1 is correct. If you look at the highest number in the matrix (15), you will see that it is white. If you look at the edges of the scale, you will see that they are black."
   ]
  },
  {
   "cell_type": "markdown",
   "id": "b9168cb9",
   "metadata": {},
   "source": [
    "### Here is the greyscale value for each of the pixels if you are still unclear what each number represents."
   ]
  },
  {
   "cell_type": "markdown",
   "id": "73b16735",
   "metadata": {},
   "source": [
    "## more work ..\n",
    "The k-nearest neighbours classifier is expecting a list of values, but pl.matshow() returns a two-dimensional array (a matrix) reflecting the shape of the image.\n",
    "\n",
    "To “flatten” it into a list, we need to call reshape() on digits.images."
   ]
  },
  {
   "cell_type": "code",
   "execution_count": 9,
   "id": "1dc49eed",
   "metadata": {},
   "outputs": [
    {
     "data": {
      "text/plain": [
       "array([ 0.,  0.,  5., 13.,  9.,  1.,  0.,  0.,  0.,  0., 13., 15., 10.,\n",
       "       15.,  5.,  0.,  0.,  3., 15.,  2.,  0., 11.,  8.,  0.,  0.,  4.,\n",
       "       12.,  0.,  0.,  8.,  8.,  0.,  0.,  5.,  8.,  0.,  0.,  9.,  8.,\n",
       "        0.,  0.,  4., 11.,  0.,  1., 12.,  7.,  0.,  0.,  2., 14.,  5.,\n",
       "       10., 12.,  0.,  0.,  0.,  0.,  6., 13., 10.,  0.,  0.,  0.])"
      ]
     },
     "execution_count": 9,
     "metadata": {},
     "output_type": "execute_result"
    }
   ],
   "source": [
    "digits.images[0].reshape(-1)"
   ]
  },
  {
   "cell_type": "markdown",
   "id": "a176ecc9",
   "metadata": {},
   "source": [
    "## Flatten .mp4 file"
   ]
  },
  {
   "cell_type": "code",
   "execution_count": 10,
   "id": "d52b30a3",
   "metadata": {},
   "outputs": [
    {
     "data": {
      "text/html": [
       "<video width=\"80%\" controls> \n",
       "    <source src=\"./flatten.mp4\" type=\"video/mp4\"> \n",
       "</video>\n"
      ],
      "text/plain": [
       "<IPython.core.display.HTML object>"
      ]
     },
     "metadata": {},
     "output_type": "display_data"
    }
   ],
   "source": [
    "%%HTML\n",
    "<video width=\"80%\" controls> \n",
    "    <source src=\"./flatten.mp4\" type=\"video/mp4\"> \n",
    "</video>"
   ]
  },
  {
   "cell_type": "markdown",
   "id": "2dc5c888",
   "metadata": {},
   "source": [
    "This video explains how reshape() does to “flatten” the two-dimensional array into a one dimensional array.\n",
    "\n",
    "## Build a KNN model to classify MNIST images\n",
    "Now that the number of dimensions was reduced from two to one, this brings us to step five of the data science process: model building.\n",
    "\n",
    "When passing the contents of an image into the classifier, we need to pass it a training data set so that it can start learning how to predict the numbers in the images.\n",
    "\n",
    "Each image is also labelled with the number it actually shows.\n",
    "\n",
    "This will build a model in memory of the most likely digit shown in an image given its grayscale values.\n",
    "\n",
    "Once the program has gone through the training set and built the model, we can then pass it the test set of data to see how well it has learned to interpret the images using the model.\n",
    "\n",
    "The end result of the following code is called a confusion matrix, a two-dimensional array that shows how often the number predicted was the correct number."
   ]
  },
  {
   "cell_type": "markdown",
   "id": "f406e080",
   "metadata": {},
   "source": [
    "## Load packages"
   ]
  },
  {
   "cell_type": "code",
   "execution_count": 11,
   "id": "eac30825",
   "metadata": {},
   "outputs": [],
   "source": [
    "from sklearn.model_selection import train_test_split\n",
    "from sklearn.neighbors import KNeighborsClassifier\n",
    "from sklearn.metrics import confusion_matrix\n",
    "import pylab as plt"
   ]
  },
  {
   "cell_type": "markdown",
   "id": "0e273cc0",
   "metadata": {},
   "source": [
    "## Step 1: Select target variable"
   ]
  },
  {
   "cell_type": "code",
   "execution_count": 12,
   "id": "47cd2be3",
   "metadata": {},
   "outputs": [],
   "source": [
    "y = digits.target"
   ]
  },
  {
   "cell_type": "markdown",
   "id": "4e5e0783",
   "metadata": {},
   "source": [
    "## Step 2: Prepare data\n",
    "Reshape adapts the matrix form. This method could, for instance, turn a 10x10 matrix into 100 vectors"
   ]
  },
  {
   "cell_type": "code",
   "execution_count": 13,
   "id": "39de7ef4",
   "metadata": {},
   "outputs": [
    {
     "data": {
      "text/plain": [
       "1797"
      ]
     },
     "execution_count": 13,
     "metadata": {},
     "output_type": "execute_result"
    }
   ],
   "source": [
    "n_samples = len(digits.images)\n",
    "n_samples"
   ]
  },
  {
   "cell_type": "code",
   "execution_count": 14,
   "id": "8e450e10",
   "metadata": {},
   "outputs": [
    {
     "data": {
      "text/plain": [
       "(1797, 64)"
      ]
     },
     "execution_count": 14,
     "metadata": {},
     "output_type": "execute_result"
    }
   ],
   "source": [
    "X = digits.images.reshape((n_samples, -1))\n",
    "X.shape"
   ]
  },
  {
   "cell_type": "code",
   "execution_count": 15,
   "id": "d5726e5e",
   "metadata": {},
   "outputs": [
    {
     "name": "stdout",
     "output_type": "stream",
     "text": [
      "[[ 0.  0.  5. ...  0.  0.  0.]\n",
      " [ 0.  0.  0. ... 10.  0.  0.]\n",
      " [ 0.  0.  0. ... 16.  9.  0.]\n",
      " ...\n",
      " [ 0.  0.  1. ...  6.  0.  0.]\n",
      " [ 0.  0.  2. ... 12.  0.  0.]\n",
      " [ 0.  0. 10. ... 12.  1.  0.]]\n"
     ]
    }
   ],
   "source": [
    "print(X)"
   ]
  },
  {
   "cell_type": "markdown",
   "id": "23b96caa",
   "metadata": {},
   "source": [
    "## Step 3: Split into test set and training set"
   ]
  },
  {
   "cell_type": "code",
   "execution_count": 16,
   "id": "e726f8f7",
   "metadata": {},
   "outputs": [],
   "source": [
    "X_train, X_test, y_train, y_test = train_test_split(\n",
    "    X, y, \n",
    "    random_state=0)"
   ]
  },
  {
   "cell_type": "markdown",
   "id": "8305a7bb",
   "metadata": {},
   "source": [
    "## Step 4: Select a k-Nearest Neighbor classifier"
   ]
  },
  {
   "cell_type": "code",
   "execution_count": 17,
   "id": "0ceab01c",
   "metadata": {},
   "outputs": [],
   "source": [
    "clf = KNeighborsClassifier(3)"
   ]
  },
  {
   "cell_type": "markdown",
   "id": "ab96a387",
   "metadata": {},
   "source": [
    "## Step 5: Fit the data"
   ]
  },
  {
   "cell_type": "code",
   "execution_count": 18,
   "id": "8667e94b",
   "metadata": {},
   "outputs": [],
   "source": [
    "fit = clf.fit(X_train, y_train)"
   ]
  },
  {
   "cell_type": "markdown",
   "id": "710cb26a",
   "metadata": {},
   "source": [
    "## Step 6: Predict on unseen data"
   ]
  },
  {
   "cell_type": "code",
   "execution_count": 19,
   "id": "80349218",
   "metadata": {},
   "outputs": [],
   "source": [
    "predicted = fit.predict(X_test)"
   ]
  },
  {
   "cell_type": "markdown",
   "id": "b7090b46",
   "metadata": {},
   "source": [
    "## Step 7: Create confusion matrix"
   ]
  },
  {
   "cell_type": "code",
   "execution_count": 20,
   "id": "aa30e97c",
   "metadata": {},
   "outputs": [
    {
     "data": {
      "text/plain": [
       "array([[37,  0,  0,  0,  0,  0,  0,  0,  0,  0],\n",
       "       [ 0, 42,  0,  0,  0,  1,  0,  0,  0,  0],\n",
       "       [ 0,  0, 44,  0,  0,  0,  0,  0,  0,  0],\n",
       "       [ 0,  0,  1, 44,  0,  0,  0,  0,  0,  0],\n",
       "       [ 0,  0,  0,  0, 37,  0,  0,  1,  0,  0],\n",
       "       [ 0,  0,  0,  0,  0, 47,  0,  0,  0,  1],\n",
       "       [ 0,  0,  0,  0,  0,  0, 52,  0,  0,  0],\n",
       "       [ 0,  0,  0,  0,  0,  0,  0, 48,  0,  0],\n",
       "       [ 0,  0,  0,  2,  0,  0,  0,  0, 46,  0],\n",
       "       [ 0,  0,  0,  0,  0,  0,  0,  0,  0, 47]], dtype=int64)"
      ]
     },
     "execution_count": 20,
     "metadata": {},
     "output_type": "execute_result"
    }
   ],
   "source": [
    "confusion_matrix(y_test, predicted)"
   ]
  },
  {
   "cell_type": "markdown",
   "id": "a36c8462",
   "metadata": {},
   "source": [
    "Note that: A confusion matrix is used to evaluate the models to ensure reproducibility of analysis. So, if you are not familiar with a confusion matrix, you can read this article here.\n",
    "\n",
    "The main thing you have to remember here is that the rows are the number of times that number has appeared in the test-set (0 to 9) and the columns are the number of times that number has been predicted. Confusing, right? Hence the name, confusion matrix.\n",
    "\n",
    "It is shown here that the model predicted the number 2 correctly 17 times (at coordinates 3,3), but also that the model predicted the number 8 15 times when it was actually the number 2 in the image (at coordinates 3,9).\n",
    "\n",
    "In a good model, you’d expect the sum of the numbers on the main diagonal of the matrix (also known as the matrix trace) to be very high compared to the sum of all matrix entries.\n",
    "\n",
    "So, from this confusion matrix, we can deduce that for most images, the predictions are quite accurate."
   ]
  },
  {
   "cell_type": "markdown",
   "id": "20955793",
   "metadata": {},
   "source": [
    "## Visualize the prediction"
   ]
  },
  {
   "cell_type": "markdown",
   "id": "7bb1c609",
   "metadata": {},
   "source": [
    "### stores number image matrix and its prediction (as number) together in array"
   ]
  },
  {
   "cell_type": "code",
   "execution_count": 21,
   "id": "70f4200d",
   "metadata": {},
   "outputs": [],
   "source": [
    "images_and_predictions = list(zip(digits.images, fit.predict(X)))"
   ]
  },
  {
   "cell_type": "code",
   "execution_count": 22,
   "id": "82fa4552",
   "metadata": {},
   "outputs": [
    {
     "data": {
      "image/png": "[encoded data removed]",
      "text/plain": [
       "<Figure size 432x288 with 6 Axes>"
      ]
     },
     "metadata": {
      "needs_background": "light"
     },
     "output_type": "display_data"
    }
   ],
   "source": [
    "for index, (image, prediction) in enumerate(images_and_predictions[:6]):\n",
    "    plt.subplot(6,3,index+5)\n",
    "    plt.axis(\"off\")\n",
    "    plt.imshow(image, cmap=plt.cm.gray_r, interpolation='nearest')\n",
    "    plt.title('Prediction: %i' % prediction)\n",
    "plt.show()"
   ]
  },
  {
   "cell_type": "markdown",
   "id": "8558807b",
   "metadata": {},
   "source": [
    "The bottom left number is ambiguous, even to humans; is it a 5 or a 9? It’s debatable, but the algorithm thinks it’s a 9.\n",
    "\n",
    "By discerning which images were misinterpreted, we can train the model further by\n",
    "\n",
    "labelling them with the correct number they display and feeding them back into the model as a new training set (step 5 of the data science process).\n",
    "\n",
    "This will make the model more accurate, so the cycle of learn, predict, correct continues and the predictions become more accurate."
   ]
  },
  {
   "cell_type": "code",
   "execution_count": null,
   "id": "8c150b53",
   "metadata": {},
   "outputs": [],
   "source": []
  },
  {
   "cell_type": "code",
   "execution_count": null,
   "id": "75b5f060",
   "metadata": {},
   "outputs": [],
   "source": []
  }
 ],
 "metadata": {
  "kernelspec": {
   "display_name": "Python 3 (ipykernel)",
   "language": "python",
   "name": "python3"
  },
  "language_info": {
   "codemirror_mode": {
    "name": "ipython",
    "version": 3
   },
   "file_extension": ".py",
   "mimetype": "text/x-python",
   "name": "python",
   "nbconvert_exporter": "python",
   "pygments_lexer": "ipython3",
   "version": "3.9.12"
  }
 },
 "nbformat": 4,
 "nbformat_minor": 5
}
